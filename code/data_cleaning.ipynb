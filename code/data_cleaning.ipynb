{
 "cells": [
  {
   "cell_type": "markdown",
   "metadata": {},
   "source": [
    "# Goal for this Project:\n",
    "Using data, let's answer the question \"which cities rain more?\" and through data science workflow, we will investigate the nuance of this question. But first, let's load and clean the data in this notebook!"
   ]
  },
  {
   "cell_type": "markdown",
   "metadata": {},
   "source": [
    "## Instaling Libraries"
   ]
  },
  {
   "cell_type": "code",
   "execution_count": 143,
   "metadata": {},
   "outputs": [
    {
     "name": "stdout",
     "output_type": "stream",
     "text": [
      "Requirement already satisfied: seaborn in /opt/homebrew/Cellar/jupyterlab/4.4.7/libexec/lib/python3.13/site-packages (from -r /Users/dcnguyen060899/Downloads/First_Quarter_Seattle_U_2025:2026/DATA_5100-01/weather/requirements.txt (line 1)) (0.13.2)\n",
      "Requirement already satisfied: pandas in /opt/homebrew/Cellar/jupyterlab/4.4.7/libexec/lib/python3.13/site-packages (from -r /Users/dcnguyen060899/Downloads/First_Quarter_Seattle_U_2025:2026/DATA_5100-01/weather/requirements.txt (line 2)) (2.3.2)\n",
      "Requirement already satisfied: matplotlib in /opt/homebrew/Cellar/jupyterlab/4.4.7/libexec/lib/python3.13/site-packages (from -r /Users/dcnguyen060899/Downloads/First_Quarter_Seattle_U_2025:2026/DATA_5100-01/weather/requirements.txt (line 3)) (3.10.6)\n",
      "Requirement already satisfied: numpy in /opt/homebrew/Cellar/jupyterlab/4.4.7/libexec/lib/python3.13/site-packages (from -r /Users/dcnguyen060899/Downloads/First_Quarter_Seattle_U_2025:2026/DATA_5100-01/weather/requirements.txt (line 4)) (2.3.3)\n",
      "Requirement already satisfied: python-dateutil>=2.8.2 in /opt/homebrew/Cellar/jupyterlab/4.4.7/libexec/lib/python3.13/site-packages (from pandas->-r /Users/dcnguyen060899/Downloads/First_Quarter_Seattle_U_2025:2026/DATA_5100-01/weather/requirements.txt (line 2)) (2.9.0.post0)\n",
      "Requirement already satisfied: pytz>=2020.1 in /opt/homebrew/Cellar/jupyterlab/4.4.7/libexec/lib/python3.13/site-packages (from pandas->-r /Users/dcnguyen060899/Downloads/First_Quarter_Seattle_U_2025:2026/DATA_5100-01/weather/requirements.txt (line 2)) (2025.2)\n",
      "Requirement already satisfied: tzdata>=2022.7 in /opt/homebrew/Cellar/jupyterlab/4.4.7/libexec/lib/python3.13/site-packages (from pandas->-r /Users/dcnguyen060899/Downloads/First_Quarter_Seattle_U_2025:2026/DATA_5100-01/weather/requirements.txt (line 2)) (2025.2)\n",
      "Requirement already satisfied: contourpy>=1.0.1 in /opt/homebrew/Cellar/jupyterlab/4.4.7/libexec/lib/python3.13/site-packages (from matplotlib->-r /Users/dcnguyen060899/Downloads/First_Quarter_Seattle_U_2025:2026/DATA_5100-01/weather/requirements.txt (line 3)) (1.3.3)\n",
      "Requirement already satisfied: cycler>=0.10 in /opt/homebrew/Cellar/jupyterlab/4.4.7/libexec/lib/python3.13/site-packages (from matplotlib->-r /Users/dcnguyen060899/Downloads/First_Quarter_Seattle_U_2025:2026/DATA_5100-01/weather/requirements.txt (line 3)) (0.12.1)\n",
      "Requirement already satisfied: fonttools>=4.22.0 in /opt/homebrew/Cellar/jupyterlab/4.4.7/libexec/lib/python3.13/site-packages (from matplotlib->-r /Users/dcnguyen060899/Downloads/First_Quarter_Seattle_U_2025:2026/DATA_5100-01/weather/requirements.txt (line 3)) (4.59.2)\n",
      "Requirement already satisfied: kiwisolver>=1.3.1 in /opt/homebrew/Cellar/jupyterlab/4.4.7/libexec/lib/python3.13/site-packages (from matplotlib->-r /Users/dcnguyen060899/Downloads/First_Quarter_Seattle_U_2025:2026/DATA_5100-01/weather/requirements.txt (line 3)) (1.4.9)\n",
      "Requirement already satisfied: packaging>=20.0 in /opt/homebrew/Cellar/jupyterlab/4.4.7/libexec/lib/python3.13/site-packages (from matplotlib->-r /Users/dcnguyen060899/Downloads/First_Quarter_Seattle_U_2025:2026/DATA_5100-01/weather/requirements.txt (line 3)) (25.0)\n",
      "Requirement already satisfied: pillow>=8 in /opt/homebrew/Cellar/jupyterlab/4.4.7/libexec/lib/python3.13/site-packages (from matplotlib->-r /Users/dcnguyen060899/Downloads/First_Quarter_Seattle_U_2025:2026/DATA_5100-01/weather/requirements.txt (line 3)) (11.3.0)\n",
      "Requirement already satisfied: pyparsing>=2.3.1 in /opt/homebrew/Cellar/jupyterlab/4.4.7/libexec/lib/python3.13/site-packages (from matplotlib->-r /Users/dcnguyen060899/Downloads/First_Quarter_Seattle_U_2025:2026/DATA_5100-01/weather/requirements.txt (line 3)) (3.2.4)\n",
      "Requirement already satisfied: six>=1.5 in /opt/homebrew/Cellar/jupyterlab/4.4.7/libexec/lib/python3.13/site-packages (from python-dateutil>=2.8.2->pandas->-r /Users/dcnguyen060899/Downloads/First_Quarter_Seattle_U_2025:2026/DATA_5100-01/weather/requirements.txt (line 2)) (1.17.0)\n",
      "Note: you may need to restart the kernel to use updated packages.\n"
     ]
    }
   ],
   "source": [
    "pip install -r \"/Users/dcnguyen060899/Downloads/First_Quarter_Seattle_U_2025:2026/DATA_5100-01/weather/requirements.txt\"\n"
   ]
  },
  {
   "cell_type": "markdown",
   "metadata": {
    "id": "CT4gTNQTh9n1"
   },
   "source": [
    "# Load and explore the data"
   ]
  },
  {
   "cell_type": "markdown",
   "metadata": {
    "id": "dwvtDMCYlPus"
   },
   "source": [
    "## Import libraries"
   ]
  },
  {
   "cell_type": "code",
   "execution_count": 144,
   "metadata": {
    "id": "DQZAzYri_ru5"
   },
   "outputs": [],
   "source": [
    "# Import pandas, numpy, and matplotlib\n",
    "import pandas as pd\n",
    "import numpy as np\n",
    "import matplotlib.pyplot as plt\n",
    "\n",
    "# seaborn is a data visualization library built on matplotlib\n",
    "import seaborn as sns\n",
    "\n",
    "# set the plotting style\n",
    "sns.set_style(\"whitegrid\")"
   ]
  },
  {
   "cell_type": "markdown",
   "metadata": {
    "id": "5qccuG8vy7Ja"
   },
   "source": [
    "## Load the data"
   ]
  },
  {
   "cell_type": "markdown",
   "metadata": {
    "id": "xYdcJWUhIc8U"
   },
   "source": [
    "##### Load the Seattle and Atlanta data set"
   ]
  },
  {
   "cell_type": "code",
   "execution_count": 145,
   "metadata": {
    "id": "qkcOYu37GIp-"
   },
   "outputs": [],
   "source": [
    "df_seattle = pd.read_csv(\"/Users/dcnguyen060899/Downloads/First_Quarter_Seattle_U_2025:2026/DATA_5100-01/weather/data/seattle_rain.csv\")"
   ]
  },
  {
   "cell_type": "code",
   "execution_count": 146,
   "metadata": {},
   "outputs": [],
   "source": [
    "df_atlanta= pd.read_csv(\"/Users/dcnguyen060899/Downloads/First_Quarter_Seattle_U_2025:2026/DATA_5100-01/weather/data/atlanta_ga_rain.csv\")"
   ]
  },
  {
   "cell_type": "markdown",
   "metadata": {
    "id": "OHVSgzXFd4nf"
   },
   "source": [
    "## Explore the contents of the data sets"
   ]
  },
  {
   "cell_type": "markdown",
   "metadata": {
    "id": "gYxy4Sy6d9_j"
   },
   "source": [
    "##### Start by looking at the head of each data frame.\n",
    "\n",
    "This will let us see the names of the columns and a few example values for each column."
   ]
  },
  {
   "cell_type": "code",
   "execution_count": 147,
   "metadata": {},
   "outputs": [
    {
     "data": {
      "text/plain": [
       "(Index(['STATION', 'NAME', 'DATE', 'DAPR', 'MDPR', 'PRCP', 'SNOW', 'SNWD',\n",
       "        'WESD', 'WESF'],\n",
       "       dtype='object'),\n",
       " Index(['STATION', 'NAME', 'DATE', 'DAPR', 'MDPR', 'PRCP', 'SNOW', 'SNWD'], dtype='object'))"
      ]
     },
     "execution_count": 147,
     "metadata": {},
     "output_type": "execute_result"
    }
   ],
   "source": [
    "df_seattle.columns, df_atlanta.columns"
   ]
  },
  {
   "cell_type": "markdown",
   "metadata": {},
   "source": [
    "Seattle has two extra columns WESD and WESF that Seattle does not have"
   ]
  },
  {
   "cell_type": "markdown",
   "metadata": {
    "id": "El2gEjGnBtyy"
   },
   "source": [
    "##### Examine more rows"
   ]
  },
  {
   "cell_type": "code",
   "execution_count": 148,
   "metadata": {
    "id": "El2gEjGnBtyy"
   },
   "outputs": [
    {
     "data": {
      "text/plain": [
       "(       STATION                    NAME    DATE  DAPR  MDPR  PRCP  SNOW  SNWD  \\\n",
       " 0  US1WAKG0225  SEATTLE 2.1 ESE, WA US  1/1/18   NaN   NaN  0.00   NaN   NaN   \n",
       " 1  US1WAKG0225  SEATTLE 2.1 ESE, WA US  1/2/18   NaN   NaN  0.00   NaN   NaN   \n",
       " 2  US1WAKG0225  SEATTLE 2.1 ESE, WA US  1/3/18   NaN   NaN  0.00   NaN   NaN   \n",
       " 3  US1WAKG0225  SEATTLE 2.1 ESE, WA US  1/4/18   NaN   NaN  0.00   NaN   NaN   \n",
       " 4  US1WAKG0225  SEATTLE 2.1 ESE, WA US  1/5/18   NaN   NaN  0.25   NaN   NaN   \n",
       " \n",
       "    WESD  WESF  \n",
       " 0   NaN   NaN  \n",
       " 1   NaN   NaN  \n",
       " 2   NaN   NaN  \n",
       " 3   NaN   NaN  \n",
       " 4   NaN   NaN  ,\n",
       "        STATION                   NAME        DATE  DAPR  MDPR  PRCP  SNOW  \\\n",
       " 0  US1GACB0068  SMYRNA 0.2 ESE, GA US  2022-06-17   NaN   NaN  0.00   0.0   \n",
       " 1  US1GACB0068  SMYRNA 0.2 ESE, GA US  2022-06-18   NaN   NaN  0.08   NaN   \n",
       " 2  US1GACB0068  SMYRNA 0.2 ESE, GA US  2022-06-19   NaN   NaN  0.00   0.0   \n",
       " 3  US1GACB0068  SMYRNA 0.2 ESE, GA US  2022-06-20   NaN   NaN  0.00   0.0   \n",
       " 4  US1GACB0068  SMYRNA 0.2 ESE, GA US  2022-06-21   NaN   NaN  0.00   0.0   \n",
       " \n",
       "    SNWD  \n",
       " 0   NaN  \n",
       " 1   NaN  \n",
       " 2   NaN  \n",
       " 3   NaN  \n",
       " 4   NaN  )"
      ]
     },
     "execution_count": 148,
     "metadata": {},
     "output_type": "execute_result"
    }
   ],
   "source": [
    "df_seattle.head(), df_atlanta.head()"
   ]
  },
  {
   "cell_type": "markdown",
   "metadata": {},
   "source": [
    "There are some missing value in some columns in both dataset"
   ]
  },
  {
   "cell_type": "markdown",
   "metadata": {
    "id": "7zDNxnE9LRF4"
   },
   "source": [
    "##### Are the columns are the same?"
   ]
  },
  {
   "cell_type": "markdown",
   "metadata": {
    "id": "e0IEtgl8eRkv"
   },
   "source": [
    "##### Use the `info` method to check the data types, size of the data frame, and numbers of missing values."
   ]
  },
  {
   "cell_type": "code",
   "execution_count": 149,
   "metadata": {},
   "outputs": [
    {
     "name": "stdout",
     "output_type": "stream",
     "text": [
      "<class 'pandas.core.frame.DataFrame'>\n",
      "RangeIndex: 1658 entries, 0 to 1657\n",
      "Data columns (total 10 columns):\n",
      " #   Column   Non-Null Count  Dtype  \n",
      "---  ------   --------------  -----  \n",
      " 0   STATION  1658 non-null   object \n",
      " 1   NAME     1658 non-null   object \n",
      " 2   DATE     1658 non-null   object \n",
      " 3   DAPR     23 non-null     float64\n",
      " 4   MDPR     23 non-null     float64\n",
      " 5   PRCP     1636 non-null   float64\n",
      " 6   SNOW     353 non-null    float64\n",
      " 7   SNWD     66 non-null     float64\n",
      " 8   WESD     15 non-null     float64\n",
      " 9   WESF     28 non-null     float64\n",
      "dtypes: float64(7), object(3)\n",
      "memory usage: 129.7+ KB\n",
      "<class 'pandas.core.frame.DataFrame'>\n",
      "RangeIndex: 47374 entries, 0 to 47373\n",
      "Data columns (total 8 columns):\n",
      " #   Column   Non-Null Count  Dtype  \n",
      "---  ------   --------------  -----  \n",
      " 0   STATION  47374 non-null  object \n",
      " 1   NAME     47374 non-null  object \n",
      " 2   DATE     47374 non-null  object \n",
      " 3   DAPR     923 non-null    float64\n",
      " 4   MDPR     914 non-null    float64\n",
      " 5   PRCP     46461 non-null  float64\n",
      " 6   SNOW     24599 non-null  float64\n",
      " 7   SNWD     5468 non-null   float64\n",
      "dtypes: float64(5), object(3)\n",
      "memory usage: 2.9+ MB\n"
     ]
    },
    {
     "data": {
      "text/plain": [
       "(None, None)"
      ]
     },
     "execution_count": 149,
     "metadata": {},
     "output_type": "execute_result"
    }
   ],
   "source": [
    "df_seattle.info(), df_atlanta.info()"
   ]
  },
  {
   "cell_type": "markdown",
   "metadata": {},
   "source": [
    "As we look at the columns using .columns, we know that Atlanta has two extra columns, from this info method, we can see it clearer that Atlanta has 8 while Seattle has 10"
   ]
  },
  {
   "cell_type": "markdown",
   "metadata": {
    "id": "RxbRRmQRMYZd"
   },
   "source": [
    "##### We can also compare data frame sizes using the shape attribute"
   ]
  },
  {
   "cell_type": "code",
   "execution_count": 150,
   "metadata": {},
   "outputs": [
    {
     "data": {
      "text/plain": [
       "((1658, 10), (47374, 8))"
      ]
     },
     "execution_count": 150,
     "metadata": {},
     "output_type": "execute_result"
    }
   ],
   "source": [
    "df_seattle.shape, df_atlanta.shape"
   ]
  },
  {
   "cell_type": "markdown",
   "metadata": {},
   "source": [
    "It is clearly that there is more entries in Atlanta (47374 entries) than Seattle (1658 entries)"
   ]
  },
  {
   "cell_type": "markdown",
   "metadata": {
    "id": "Oa64TsxsL9aF"
   },
   "source": [
    "## Why might the Atlanta data set be larger?"
   ]
  },
  {
   "cell_type": "markdown",
   "metadata": {
    "id": "wLtJTlMLMthz"
   },
   "source": [
    "#### Examine the `STATION` column"
   ]
  },
  {
   "cell_type": "markdown",
   "metadata": {
    "id": "T5cUb34RM4Ky"
   },
   "source": [
    "##### How many unique stations are present?"
   ]
  },
  {
   "cell_type": "code",
   "execution_count": 151,
   "metadata": {},
   "outputs": [
    {
     "data": {
      "text/plain": [
       "(array(['SEATTLE 2.1 ESE, WA US'], dtype=object),\n",
       " array(['SMYRNA 0.2 ESE, GA US', 'TUCKER 2.3 NNE, GA US',\n",
       "        'PEACHTREE CORNERS 0.9 NNW, GA US', 'DECATUR 1.4 N, GA US',\n",
       "        'ROSWELL 5.9 SE, GA US', 'DECATUR 1.2 NE, GA US',\n",
       "        'DUNWOODY 1.2 SW, GA US', 'ATLANTA 3.1 ESE, GA US',\n",
       "        'ATLANTA FULTON CO AIRPORT, GA US', 'ATLANTA 6.0 NE, GA US',\n",
       "        'DULUTH 4.0 S, GA US', 'ATLANTA DEKALB PEACHTREE AIRPORT, GA US',\n",
       "        'DECATUR 2.6 NE, GA US', 'TUCKER 1.3 ENE, GA US',\n",
       "        'AVONDALE ESTATES 0.4 ESE, GA US', 'ATLANTA 3.2 S, GA US',\n",
       "        'TUCKER 2.3 W, GA US', 'DECATUR 4.3 NNE, GA US',\n",
       "        'NORTH DECATUR 3.0 NNE, GA US', 'NORTH DECATUR 2.6 N, GA US',\n",
       "        'ROSWELL 3.0 ESE, GA US', 'DORAVILLE 2 NNE, GA US',\n",
       "        'SMYRNA 0.4 NE, GA US', 'SMYRNA 2.3 NE, GA US',\n",
       "        'EAST POINT 6.3 WNW, GA US', 'TUCKER 0.5 NW, GA US',\n",
       "        'TUCKER 0.6 NNW, GA US', 'LILBURN 2.5 S, GA US',\n",
       "        'PEACHTREE CORNERS 1.1 N, GA US', 'COLLEGE PARK 1.6 NNW, GA US',\n",
       "        'DECATUR 1.2 SE, GA US', 'ATLANTA 4.4 E, GA US',\n",
       "        'ATLANTA 2.3 NE, GA US', 'MORROW 1.3 N, GA US',\n",
       "        'ATLANTA 2.8 SE, GA US', 'SANDY SPRINGS 3.2 WNW, GA US',\n",
       "        'ELLENWOOD 2.5 NE, GA US', 'ATLANTA 3.7 N, GA US',\n",
       "        'ATLANTA HARTSFIELD JACKSON INTERNATIONAL AIRPORT, GA US',\n",
       "        'CHAMBLEE 1.2 SW, GA US', 'DECATUR 3.9 SE, GA US',\n",
       "        'TUCKER 4.1 SW, GA US', 'DECATUR 2.6 NNE, GA US',\n",
       "        'ATLANTA 5.1 SE, GA US', 'STONE MOUNTAIN 4.9 E, GA US',\n",
       "        'ATLANTA 2.3 SE, GA US', 'ATLANTA 3.5 ENE, GA US',\n",
       "        'MARIETTA 8.3 NE, GA US'], dtype=object))"
      ]
     },
     "execution_count": 151,
     "metadata": {},
     "output_type": "execute_result"
    }
   ],
   "source": [
    "df_seattle['NAME'].unique(), df_atlanta['NAME'].unique()"
   ]
  },
  {
   "cell_type": "markdown",
   "metadata": {},
   "source": [
    "Let's use Atlanta airport because it follows a strict guidelines for data collection hence we would have a more quality data"
   ]
  },
  {
   "cell_type": "markdown",
   "metadata": {},
   "source": [
    "there are more rows in Atlanta than Seattle simply because there are more station collected"
   ]
  },
  {
   "cell_type": "code",
   "execution_count": 152,
   "metadata": {},
   "outputs": [
    {
     "name": "stdout",
     "output_type": "stream",
     "text": [
      "\n",
      "Number of stations after filtering:\n",
      "1\n"
     ]
    }
   ],
   "source": [
    "df_atlanta = df_atlanta.loc[df_atlanta['NAME'] == 'ATLANTA HARTSFIELD JACKSON INTERNATIONAL AIRPORT, GA US']\n",
    "\n",
    "print(\"\\nNumber of stations after filtering:\")\n",
    "print(df_atlanta['STATION'].nunique())"
   ]
  },
  {
   "cell_type": "markdown",
   "metadata": {},
   "source": [
    "Now that Atlanta dataset has one station that match with Seattle dataset, let's see now if Atlanta has approximately similar entries with Seattle since we narrowed down both to one station."
   ]
  },
  {
   "cell_type": "code",
   "execution_count": 153,
   "metadata": {},
   "outputs": [
    {
     "name": "stdout",
     "output_type": "stream",
     "text": [
      "<class 'pandas.core.frame.DataFrame'>\n",
      "Index: 1826 entries, 41325 to 43150\n",
      "Data columns (total 8 columns):\n",
      " #   Column   Non-Null Count  Dtype  \n",
      "---  ------   --------------  -----  \n",
      " 0   STATION  1826 non-null   object \n",
      " 1   NAME     1826 non-null   object \n",
      " 2   DATE     1826 non-null   object \n",
      " 3   DAPR     0 non-null      float64\n",
      " 4   MDPR     0 non-null      float64\n",
      " 5   PRCP     1826 non-null   float64\n",
      " 6   SNOW     1826 non-null   float64\n",
      " 7   SNWD     1826 non-null   float64\n",
      "dtypes: float64(5), object(3)\n",
      "memory usage: 128.4+ KB\n"
     ]
    }
   ],
   "source": [
    "df_atlanta.info()"
   ]
  },
  {
   "cell_type": "code",
   "execution_count": 154,
   "metadata": {},
   "outputs": [
    {
     "name": "stdout",
     "output_type": "stream",
     "text": [
      "<class 'pandas.core.frame.DataFrame'>\n",
      "RangeIndex: 1658 entries, 0 to 1657\n",
      "Data columns (total 10 columns):\n",
      " #   Column   Non-Null Count  Dtype  \n",
      "---  ------   --------------  -----  \n",
      " 0   STATION  1658 non-null   object \n",
      " 1   NAME     1658 non-null   object \n",
      " 2   DATE     1658 non-null   object \n",
      " 3   DAPR     23 non-null     float64\n",
      " 4   MDPR     23 non-null     float64\n",
      " 5   PRCP     1636 non-null   float64\n",
      " 6   SNOW     353 non-null    float64\n",
      " 7   SNWD     66 non-null     float64\n",
      " 8   WESD     15 non-null     float64\n",
      " 9   WESF     28 non-null     float64\n",
      "dtypes: float64(7), object(3)\n",
      "memory usage: 129.7+ KB\n"
     ]
    }
   ],
   "source": [
    "df_seattle.info()"
   ]
  },
  {
   "cell_type": "markdown",
   "metadata": {},
   "source": [
    "Yes, both dataset's entries are approximately pretty close (1826 vs. 1658)"
   ]
  },
  {
   "cell_type": "markdown",
   "metadata": {
    "id": "w0-RCjYSNSrt"
   },
   "source": [
    "#### Examine the `DATE` column"
   ]
  },
  {
   "cell_type": "markdown",
   "metadata": {},
   "source": [
    "Let's check whether the DATE column is established as an appropriate data type?"
   ]
  },
  {
   "cell_type": "code",
   "execution_count": 155,
   "metadata": {},
   "outputs": [
    {
     "data": {
      "text/plain": [
       "(<bound method Series.info of 0         1/1/18\n",
       " 1         1/2/18\n",
       " 2         1/3/18\n",
       " 3         1/4/18\n",
       " 4         1/5/18\n",
       "           ...   \n",
       " 1653    12/27/22\n",
       " 1654    12/28/22\n",
       " 1655    12/29/22\n",
       " 1656    12/30/22\n",
       " 1657    12/31/22\n",
       " Name: DATE, Length: 1658, dtype: object>,\n",
       " <bound method Series.info of 41325    2018-01-01\n",
       " 41326    2018-01-02\n",
       " 41327    2018-01-03\n",
       " 41328    2018-01-04\n",
       " 41329    2018-01-05\n",
       "             ...    \n",
       " 43146    2022-12-27\n",
       " 43147    2022-12-28\n",
       " 43148    2022-12-29\n",
       " 43149    2022-12-30\n",
       " 43150    2022-12-31\n",
       " Name: DATE, Length: 1826, dtype: object>)"
      ]
     },
     "execution_count": 155,
     "metadata": {},
     "output_type": "execute_result"
    }
   ],
   "source": [
    "df_seattle['DATE'].info, df_atlanta['DATE'].info"
   ]
  },
  {
   "cell_type": "markdown",
   "metadata": {},
   "source": [
    "NO, we clearly see that both data set, DATE variable is a string (object), we need to convert it to datetime using pandas library datetime"
   ]
  },
  {
   "cell_type": "markdown",
   "metadata": {
    "id": "9xo4fNHiNoID"
   },
   "source": [
    "### Convert `DATE` to datetime"
   ]
  },
  {
   "cell_type": "code",
   "execution_count": 156,
   "metadata": {},
   "outputs": [
    {
     "name": "stderr",
     "output_type": "stream",
     "text": [
      "/var/folders/v5/s7m5yfm11_qc71fz_fdnk7br0000gn/T/ipykernel_86490/2711842392.py:1: UserWarning: Could not infer format, so each element will be parsed individually, falling back to `dateutil`. To ensure parsing is consistent and as-expected, please specify a format.\n",
      "  df_seattle['DATE'] = pd.to_datetime(df_seattle['DATE'])\n"
     ]
    }
   ],
   "source": [
    "df_seattle['DATE'] = pd.to_datetime(df_seattle['DATE'])\n",
    "df_atlanta['DATE'] = pd.to_datetime(df_atlanta['DATE'])"
   ]
  },
  {
   "cell_type": "markdown",
   "metadata": {},
   "source": [
    "Let's check if it is datetime now:"
   ]
  },
  {
   "cell_type": "code",
   "execution_count": 157,
   "metadata": {},
   "outputs": [
    {
     "name": "stdout",
     "output_type": "stream",
     "text": [
      "<class 'pandas.core.series.Series'>\n",
      "RangeIndex: 1658 entries, 0 to 1657\n",
      "Series name: DATE\n",
      "Non-Null Count  Dtype         \n",
      "--------------  -----         \n",
      "1658 non-null   datetime64[ns]\n",
      "dtypes: datetime64[ns](1)\n",
      "memory usage: 13.1 KB\n",
      "<class 'pandas.core.series.Series'>\n",
      "Index: 1826 entries, 41325 to 43150\n",
      "Series name: DATE\n",
      "Non-Null Count  Dtype         \n",
      "--------------  -----         \n",
      "1826 non-null   datetime64[ns]\n",
      "dtypes: datetime64[ns](1)\n",
      "memory usage: 28.5 KB\n"
     ]
    },
    {
     "data": {
      "text/plain": [
       "(None, None)"
      ]
     },
     "execution_count": 157,
     "metadata": {},
     "output_type": "execute_result"
    }
   ],
   "source": [
    "# double checking:\n",
    "df_seattle['DATE'].info(), df_atlanta['DATE'].info()"
   ]
  },
  {
   "cell_type": "markdown",
   "metadata": {},
   "source": [
    "Now that the DATE column's Dtype of both are datatime64[ns]"
   ]
  },
  {
   "cell_type": "markdown",
   "metadata": {
    "id": "ynybUlKfQNFq"
   },
   "source": [
    "### What range of dates are present?\n",
    "\n",
    "Let's double check the range of date to make sure that it is from 2018 Jan 1st to 2022 Dec 31st"
   ]
  },
  {
   "cell_type": "code",
   "execution_count": 158,
   "metadata": {},
   "outputs": [
    {
     "name": "stdout",
     "output_type": "stream",
     "text": [
      "Seattle date range:\n",
      "Start: 2018-01-01 00:00:00\n",
      "End: 2022-12-31 00:00:00\n",
      "\n",
      "Atlanta date range:\n",
      "Start: 2018-01-01 00:00:00\n",
      "End: 2022-12-31 00:00:00\n"
     ]
    }
   ],
   "source": [
    "print(\"Seattle date range:\")\n",
    "print(f\"Start: {df_seattle['DATE'].min()}\")\n",
    "print(f\"End: {df_seattle['DATE'].max()}\\n\")\n",
    "\n",
    "print(\"Atlanta date range:\")\n",
    "print(f\"Start: {df_atlanta['DATE'].min()}\")\n",
    "print(f\"End: {df_atlanta['DATE'].max()}\")"
   ]
  },
  {
   "cell_type": "markdown",
   "metadata": {},
   "source": [
    "Earlier, when we order the data, we selected both data from 2018 to 2022, it make sense that we would have data from 2018 to 2022"
   ]
  },
  {
   "cell_type": "markdown",
   "metadata": {
    "id": "UCVBxFyURV9L"
   },
   "source": [
    "### Are the data suitable for answering the question?"
   ]
  },
  {
   "cell_type": "markdown",
   "metadata": {
    "id": "nwO8wa426gF8"
   },
   "source": [
    "Plot the daily precipitation data for Seattle."
   ]
  },
  {
   "cell_type": "code",
   "execution_count": 159,
   "metadata": {},
   "outputs": [
    {
     "data": {
      "text/plain": [
       "<Axes: xlabel='DATE', ylabel='PRCP'>"
      ]
     },
     "execution_count": 159,
     "metadata": {},
     "output_type": "execute_result"
    },
    {
     "data": {
      "image/png": "[encoded data removed]",
      "text/plain": [
       "<Figure size 640x480 with 1 Axes>"
      ]
     },
     "metadata": {},
     "output_type": "display_data"
    }
   ],
   "source": [
    "sns.lineplot(data=df_seattle, x='DATE', y='PRCP')"
   ]
  },
  {
   "cell_type": "markdown",
   "metadata": {},
   "source": [
    "there is a line that does not going vertical but more like a diagonal, we need to further investigate why it is like that. But for now, we're suspecting that there is missing data in the beginning of 2018"
   ]
  },
  {
   "cell_type": "markdown",
   "metadata": {
    "id": "09DgwEWbSLod"
   },
   "source": [
    "##### Plot the daily precipitation data for Atlanta."
   ]
  },
  {
   "cell_type": "code",
   "execution_count": 160,
   "metadata": {},
   "outputs": [
    {
     "data": {
      "text/plain": [
       "<Axes: xlabel='DATE', ylabel='PRCP'>"
      ]
     },
     "execution_count": 160,
     "metadata": {},
     "output_type": "execute_result"
    },
    {
     "data": {
      "image/png": "[encoded data removed]",
      "text/plain": [
       "<Figure size 640x480 with 1 Axes>"
      ]
     },
     "metadata": {},
     "output_type": "display_data"
    }
   ],
   "source": [
    "sns.lineplot(data=df_atlanta, x='DATE', y='PRCP')"
   ]
  },
  {
   "cell_type": "markdown",
   "metadata": {},
   "source": [
    "Atlanta dataset is looking more clean from the look of this line plot visualization. For now let, assume there is no missing data. However, we would double check for missing data in more detail later because in the beginning, before filtering we can see that there is missing value in Atlanta as well. However, from this visualization, we can suspecting that after filtering to only STATION: \"ATLANTA HARTSFIELD JACKSON INTERNATIONAL AIRPORT, GA US\", possibly that there is no missing value in this station."
   ]
  },
  {
   "cell_type": "markdown",
   "metadata": {
    "id": "BkCnFJdVryvv"
   },
   "source": [
    "## Join data frames keeping `DATE` and `PRCP` columns"
   ]
  },
  {
   "cell_type": "code",
   "execution_count": 161,
   "metadata": {},
   "outputs": [
    {
     "name": "stdout",
     "output_type": "stream",
     "text": [
      "Seattle columns:\n",
      "['STATION', 'NAME', 'DATE', 'DAPR', 'MDPR', 'PRCP', 'SNOW', 'SNWD', 'WESD', 'WESF']\n",
      "\n",
      "Atlanta columns:\n",
      "['STATION', 'NAME', 'DATE', 'DAPR', 'MDPR', 'PRCP', 'SNOW', 'SNWD']\n",
      "\n",
      "Dataset shapes:\n",
      "Seattle: (1658, 10)\n",
      "Atlanta: (1826, 8)\n",
      "\n",
      "Sample data from both:\n",
      "\n",
      "Seattle first 2 rows:\n",
      "       STATION                    NAME       DATE  DAPR  MDPR  PRCP  SNOW  \\\n",
      "0  US1WAKG0225  SEATTLE 2.1 ESE, WA US 2018-01-01   NaN   NaN   0.0   NaN   \n",
      "1  US1WAKG0225  SEATTLE 2.1 ESE, WA US 2018-01-02   NaN   NaN   0.0   NaN   \n",
      "\n",
      "   SNWD  WESD  WESF  \n",
      "0   NaN   NaN   NaN  \n",
      "1   NaN   NaN   NaN  \n",
      "\n",
      "Atlanta first 2 rows:\n",
      "           STATION                                               NAME  \\\n",
      "41325  USW00013874  ATLANTA HARTSFIELD JACKSON INTERNATIONAL AIRPO...   \n",
      "41326  USW00013874  ATLANTA HARTSFIELD JACKSON INTERNATIONAL AIRPO...   \n",
      "\n",
      "            DATE  DAPR  MDPR  PRCP  SNOW  SNWD  \n",
      "41325 2018-01-01   NaN   NaN   0.0   0.0   0.0  \n",
      "41326 2018-01-02   NaN   NaN   0.0   0.0   0.0  \n"
     ]
    }
   ],
   "source": [
    "print(\"Seattle columns:\")\n",
    "print(df_seattle.columns.tolist())\n",
    "print(\"\\nAtlanta columns:\")\n",
    "print(df_atlanta.columns.tolist())\n",
    "\n",
    "print(\"\\nDataset shapes:\")\n",
    "print(f\"Seattle: {df_seattle.shape}\")\n",
    "print(f\"Atlanta: {df_atlanta.shape}\")\n",
    "\n",
    "print(\"\\nSample data from both:\")\n",
    "print(\"\\nSeattle first 2 rows:\")\n",
    "print(df_seattle.head(2))\n",
    "print(\"\\nAtlanta first 2 rows:\")\n",
    "print(df_atlanta.head(2))"
   ]
  },
  {
   "cell_type": "markdown",
   "metadata": {},
   "source": [
    "Both datasets have common columns, since this study, we focus on precipitation across time, however, Seattle has extra columns, but we most likely drop it. Lets use outer merge on DATE and only keep DATE and PRCP"
   ]
  },
  {
   "cell_type": "code",
   "execution_count": 162,
   "metadata": {},
   "outputs": [
    {
     "name": "stdout",
     "output_type": "stream",
     "text": [
      "Merged dataset shape: (1826, 3)\n",
      "\n",
      "First few rows:\n",
      "        DATE  PRCP_SEA  PRCP_ATL\n",
      "0 2018-01-01      0.00       0.0\n",
      "1 2018-01-02      0.00       0.0\n",
      "2 2018-01-03      0.00       0.0\n",
      "3 2018-01-04      0.00       0.0\n",
      "4 2018-01-05      0.25       0.0\n"
     ]
    }
   ],
   "source": [
    "# select only needed columns and add city name to PRCP\n",
    "seattle_subset = df_seattle[['DATE', 'PRCP']].rename(columns={'PRCP': 'PRCP_SEA'})\n",
    "atlanta_subset = df_atlanta[['DATE', 'PRCP']].rename(columns={'PRCP': 'PRCP_ATL'})\n",
    "\n",
    "# Merging the datasets\n",
    "merged_df = pd.merge(\n",
    "    seattle_subset,\n",
    "    atlanta_subset,\n",
    "    on='DATE',\n",
    "    how='outer'\n",
    ")\n",
    "\n",
    "# Verify the merge\n",
    "print(\"Merged dataset shape:\", merged_df.shape)\n",
    "print(\"\\nFirst few rows:\")\n",
    "print(merged_df.head())"
   ]
  },
  {
   "cell_type": "code",
   "execution_count": 163,
   "metadata": {},
   "outputs": [
    {
     "name": "stdout",
     "output_type": "stream",
     "text": [
      "<class 'pandas.core.frame.DataFrame'>\n",
      "RangeIndex: 1826 entries, 0 to 1825\n",
      "Data columns (total 3 columns):\n",
      " #   Column    Non-Null Count  Dtype         \n",
      "---  ------    --------------  -----         \n",
      " 0   DATE      1826 non-null   datetime64[ns]\n",
      " 1   PRCP_SEA  1636 non-null   float64       \n",
      " 2   PRCP_ATL  1826 non-null   float64       \n",
      "dtypes: datetime64[ns](1), float64(2)\n",
      "memory usage: 42.9 KB\n"
     ]
    }
   ],
   "source": [
    "merged_df.info()"
   ]
  },
  {
   "cell_type": "markdown",
   "metadata": {},
   "source": [
    "Initially there is 22 missing value from Seattle's precipitation, and now merge create a 168 additional rows (1826 - 1658) for dates not in Seattle's data. So the missing data would be 22 + 168 = 190 for precipitation for Seattle. Let check that later when we come up with algorithm to impute missing data.\n"
   ]
  },
  {
   "cell_type": "markdown",
   "metadata": {
    "id": "TklEWrlhsEiQ"
   },
   "source": [
    "### Create a tidy data frame with columns for city and precipitation"
   ]
  },
  {
   "cell_type": "markdown",
   "metadata": {},
   "source": [
    "let's tidy the dataframe using melt, making the city into one column, instead of prcp columns of different city and name it precipitation"
   ]
  },
  {
   "cell_type": "code",
   "execution_count": 164,
   "metadata": {
    "id": "PDutvglumIOg"
   },
   "outputs": [],
   "source": [
    "# metlting the dataframe\n",
    "tidy_df = pd.melt(\n",
    "    merged_df,\n",
    "    id_vars=['DATE'],\n",
    "    value_vars=['PRCP_SEA', 'PRCP_ATL'],\n",
    "    var_name='city',\n",
    "    value_name='precipitation'\n",
    ")\n",
    "\n",
    "# now the name of city column is PRCP_SEA and PRCP_ATL, we want to remove the PRCP_ part\n",
    "tidy_df['city'] = tidy_df['city'].str.replace('PRCP_', '')\n",
    "\n",
    "# since we working with new tidy dataframe, let's clean it up a bit by sorting the values by date and city, and resetting the index\n",
    "tidy_df = tidy_df.sort_values(['DATE', 'city']).reset_index(drop=True)\n"
   ]
  },
  {
   "cell_type": "markdown",
   "metadata": {
    "id": "5PNjVV4QgOuz"
   },
   "source": [
    "How did this change the DataFrame?"
   ]
  },
  {
   "cell_type": "code",
   "execution_count": 165,
   "metadata": {
    "id": "AFStfLoNmf-I"
   },
   "outputs": [
    {
     "data": {
      "text/html": [
       "<div>\n",
       "<style scoped>\n",
       "    .dataframe tbody tr th:only-of-type {\n",
       "        vertical-align: middle;\n",
       "    }\n",
       "\n",
       "    .dataframe tbody tr th {\n",
       "        vertical-align: top;\n",
       "    }\n",
       "\n",
       "    .dataframe thead th {\n",
       "        text-align: right;\n",
       "    }\n",
       "</style>\n",
       "<table border=\"1\" class=\"dataframe\">\n",
       "  <thead>\n",
       "    <tr style=\"text-align: right;\">\n",
       "      <th></th>\n",
       "      <th>DATE</th>\n",
       "      <th>city</th>\n",
       "      <th>precipitation</th>\n",
       "    </tr>\n",
       "  </thead>\n",
       "  <tbody>\n",
       "    <tr>\n",
       "      <th>0</th>\n",
       "      <td>2018-01-01</td>\n",
       "      <td>ATL</td>\n",
       "      <td>0.00</td>\n",
       "    </tr>\n",
       "    <tr>\n",
       "      <th>1</th>\n",
       "      <td>2018-01-01</td>\n",
       "      <td>SEA</td>\n",
       "      <td>0.00</td>\n",
       "    </tr>\n",
       "    <tr>\n",
       "      <th>2</th>\n",
       "      <td>2018-01-02</td>\n",
       "      <td>ATL</td>\n",
       "      <td>0.00</td>\n",
       "    </tr>\n",
       "    <tr>\n",
       "      <th>3</th>\n",
       "      <td>2018-01-02</td>\n",
       "      <td>SEA</td>\n",
       "      <td>0.00</td>\n",
       "    </tr>\n",
       "    <tr>\n",
       "      <th>4</th>\n",
       "      <td>2018-01-03</td>\n",
       "      <td>ATL</td>\n",
       "      <td>0.00</td>\n",
       "    </tr>\n",
       "    <tr>\n",
       "      <th>...</th>\n",
       "      <td>...</td>\n",
       "      <td>...</td>\n",
       "      <td>...</td>\n",
       "    </tr>\n",
       "    <tr>\n",
       "      <th>3647</th>\n",
       "      <td>2022-12-29</td>\n",
       "      <td>SEA</td>\n",
       "      <td>0.03</td>\n",
       "    </tr>\n",
       "    <tr>\n",
       "      <th>3648</th>\n",
       "      <td>2022-12-30</td>\n",
       "      <td>ATL</td>\n",
       "      <td>0.03</td>\n",
       "    </tr>\n",
       "    <tr>\n",
       "      <th>3649</th>\n",
       "      <td>2022-12-30</td>\n",
       "      <td>SEA</td>\n",
       "      <td>0.62</td>\n",
       "    </tr>\n",
       "    <tr>\n",
       "      <th>3650</th>\n",
       "      <td>2022-12-31</td>\n",
       "      <td>ATL</td>\n",
       "      <td>0.09</td>\n",
       "    </tr>\n",
       "    <tr>\n",
       "      <th>3651</th>\n",
       "      <td>2022-12-31</td>\n",
       "      <td>SEA</td>\n",
       "      <td>0.17</td>\n",
       "    </tr>\n",
       "  </tbody>\n",
       "</table>\n",
       "<p>3652 rows × 3 columns</p>\n",
       "</div>"
      ],
      "text/plain": [
       "           DATE city  precipitation\n",
       "0    2018-01-01  ATL           0.00\n",
       "1    2018-01-01  SEA           0.00\n",
       "2    2018-01-02  ATL           0.00\n",
       "3    2018-01-02  SEA           0.00\n",
       "4    2018-01-03  ATL           0.00\n",
       "...         ...  ...            ...\n",
       "3647 2022-12-29  SEA           0.03\n",
       "3648 2022-12-30  ATL           0.03\n",
       "3649 2022-12-30  SEA           0.62\n",
       "3650 2022-12-31  ATL           0.09\n",
       "3651 2022-12-31  SEA           0.17\n",
       "\n",
       "[3652 rows x 3 columns]"
      ]
     },
     "execution_count": 165,
     "metadata": {},
     "output_type": "execute_result"
    }
   ],
   "source": [
    "tidy_df"
   ]
  },
  {
   "cell_type": "markdown",
   "metadata": {
    "id": "aAaUY6N1rtoa"
   },
   "source": [
    "## Identify and fill in missing values"
   ]
  },
  {
   "cell_type": "markdown",
   "metadata": {
    "id": "AtkhvgvlCBdw"
   },
   "source": [
    "Data can be missing in multiple manners:\n",
    "1. Values are `NaN` in the data frame"
   ]
  },
  {
   "cell_type": "markdown",
   "metadata": {
    "id": "yqbdb5CvCRFM"
   },
   "source": [
    "2.  Values are not included in the data set."
   ]
  },
  {
   "cell_type": "markdown",
   "metadata": {
    "id": "fvrV7uD0mzG6"
   },
   "source": [
    "### Count the non-null or null values"
   ]
  },
  {
   "cell_type": "markdown",
   "metadata": {
    "id": "Q1rA_SSUPyUT"
   },
   "source": [
    "Determine the number of non-null values in each column."
   ]
  },
  {
   "cell_type": "code",
   "execution_count": 166,
   "metadata": {},
   "outputs": [
    {
     "data": {
      "text/plain": [
       "DATE             3652\n",
       "city             3652\n",
       "precipitation    3462\n",
       "dtype: int64"
      ]
     },
     "execution_count": 166,
     "metadata": {},
     "output_type": "execute_result"
    }
   ],
   "source": [
    "tidy_df.notnull().sum()"
   ]
  },
  {
   "cell_type": "markdown",
   "metadata": {
    "id": "9rgs-UvovTga"
   },
   "source": [
    "##### Determine the number of null values in each column."
   ]
  },
  {
   "cell_type": "code",
   "execution_count": 167,
   "metadata": {},
   "outputs": [
    {
     "data": {
      "text/plain": [
       "DATE               0\n",
       "city               0\n",
       "precipitation    190\n",
       "dtype: int64"
      ]
     },
     "execution_count": 167,
     "metadata": {},
     "output_type": "execute_result"
    }
   ],
   "source": [
    "tidy_df.isnull().sum()"
   ]
  },
  {
   "cell_type": "markdown",
   "metadata": {},
   "source": [
    "We manually calculate the missing data earlier, and this confirmed that. We indeed has 190 missing value for Seattle's precipitation, 22 from the original dataset and 168 from outer merged because Atlanta has 168 more data than Seattle dataset"
   ]
  },
  {
   "cell_type": "markdown",
   "metadata": {
    "id": "ceiU_nolviBn"
   },
   "source": [
    "##### Determine the number of null precipitation values for Seattle and Atlanta."
   ]
  },
  {
   "cell_type": "code",
   "execution_count": 168,
   "metadata": {},
   "outputs": [
    {
     "name": "stdout",
     "output_type": "stream",
     "text": [
      "Number of null precipitation values for Seattle: 190\n",
      "Number of null precipitation values for Atlanta: 0\n"
     ]
    }
   ],
   "source": [
    "num_null_sea = tidy_df[(tidy_df['city'] == 'SEA')]['precipitation'].isnull().sum()\n",
    "num_null_atl = tidy_df[(tidy_df['city'] == 'ATL')]['precipitation'].isnull().sum()\n",
    "print(f\"Number of null precipitation values for Seattle: {num_null_sea}\")\n",
    "print(f\"Number of null precipitation values for Atlanta: {num_null_atl}\")"
   ]
  },
  {
   "cell_type": "markdown",
   "metadata": {
    "id": "AKd8Izs4CvfC"
   },
   "source": [
    "##### The Atlanta data set does not have any `NaN` values of `precipitation`. Are any dates omitted?\n",
    "\n",
    "**How many data points should we have from 2018 to 2022?**"
   ]
  },
  {
   "cell_type": "code",
   "execution_count": 169,
   "metadata": {},
   "outputs": [
    {
     "name": "stdout",
     "output_type": "stream",
     "text": [
      "Number of unique dates: 1826\n",
      "Expected number of days: 1826\n"
     ]
    }
   ],
   "source": [
    "# Count unique dates\n",
    "print(f\"Number of unique dates: {tidy_df['DATE'].nunique()}\")\n",
    "\n",
    "# Expected number of days\n",
    "date_range = pd.date_range(start='2018-01-01', end='2022-12-31')\n",
    "print(f\"Expected number of days: {len(date_range)}\")"
   ]
  },
  {
   "cell_type": "code",
   "execution_count": 170,
   "metadata": {},
   "outputs": [
    {
     "name": "stdout",
     "output_type": "stream",
     "text": [
      "Total records: 3652\n",
      "Records per city:\n",
      "city\n",
      "ATL    1826\n",
      "SEA    1826\n",
      "Name: count, dtype: int64\n"
     ]
    }
   ],
   "source": [
    "print(\"Total records:\", len(tidy_df))\n",
    "print(\"Records per city:\")\n",
    "print(tidy_df['city'].value_counts())"
   ]
  },
  {
   "cell_type": "markdown",
   "metadata": {},
   "source": [
    "this confirms that each city has the same entry of data points, both are tidy data, now we just need to deal with missing data from Seattle"
   ]
  },
  {
   "cell_type": "markdown",
   "metadata": {
    "id": "7W_iTvjbXx8_"
   },
   "source": [
    "### Impute missing values"
   ]
  },
  {
   "cell_type": "markdown",
   "metadata": {
    "id": "3OTbPI91dMOB"
   },
   "source": [
    "We will replace missing values with the mean across years of values on that day.\n",
    "\n",
    "\n",
    "**Design an algorithm for replacing missing values with the mean across years of values on that day.**"
   ]
  },
  {
   "cell_type": "markdown",
   "metadata": {},
   "source": [
    "### Here is my algotithm, how i would approach this:"
   ]
  },
  {
   "cell_type": "code",
   "execution_count": 171,
   "metadata": {},
   "outputs": [],
   "source": [
    "# let's create a month_day column, since we want to fill these with average values from the same calendar day across different years\n",
    "tidy_df['month_day'] = tidy_df['DATE'].dt.strftime('%m-%d')\n",
    "seattle_daily_means = tidy_df[\n",
    "    (tidy_df['city'] == 'SEA') &\n",
    "    (tidy_df['precipitation'].notnull())\n",
    "].groupby('month_day')['precipitation'].mean()\n",
    "\n",
    "# let's create a identifier for missing values in Seattle\n",
    "missing_value_seattle = (tidy_df['city'] == 'SEA') & (tidy_df['precipitation'].isnull())\n",
    "\n",
    "# let's search for all the missing values in Seattle and fill them with the corresponding average from seattle_daily_means\n",
    "tidy_df.loc[missing_value_seattle, 'precipitation'] = tidy_df.loc[missing_value_seattle, 'month_day'].map(seattle_daily_means)\n",
    "\n",
    "# note that the .map() for every missing value in Seattle, it looks up the month_day in seattle_daily_means and fills in the average precipitation for that day\n",
    "# simply put it look up for every missing value of the month_day in the seattle data set then replace it with the mean value of month_day of not missing seattle data set "
   ]
  },
  {
   "cell_type": "code",
   "execution_count": 172,
   "metadata": {},
   "outputs": [
    {
     "data": {
      "text/plain": [
       "DATE             0\n",
       "city             0\n",
       "precipitation    0\n",
       "month_day        0\n",
       "dtype: int64"
      ]
     },
     "execution_count": 172,
     "metadata": {},
     "output_type": "execute_result"
    }
   ],
   "source": [
    "# let's check the null\n",
    "tidy_df.isnull().sum()"
   ]
  },
  {
   "cell_type": "code",
   "execution_count": 173,
   "metadata": {},
   "outputs": [],
   "source": [
    "tidy_df.drop(columns=['month_day'], inplace=True)"
   ]
  },
  {
   "cell_type": "code",
   "execution_count": 174,
   "metadata": {},
   "outputs": [
    {
     "data": {
      "text/html": [
       "<div>\n",
       "<style scoped>\n",
       "    .dataframe tbody tr th:only-of-type {\n",
       "        vertical-align: middle;\n",
       "    }\n",
       "\n",
       "    .dataframe tbody tr th {\n",
       "        vertical-align: top;\n",
       "    }\n",
       "\n",
       "    .dataframe thead th {\n",
       "        text-align: right;\n",
       "    }\n",
       "</style>\n",
       "<table border=\"1\" class=\"dataframe\">\n",
       "  <thead>\n",
       "    <tr style=\"text-align: right;\">\n",
       "      <th></th>\n",
       "      <th>DATE</th>\n",
       "      <th>city</th>\n",
       "      <th>precipitation</th>\n",
       "    </tr>\n",
       "  </thead>\n",
       "  <tbody>\n",
       "    <tr>\n",
       "      <th>0</th>\n",
       "      <td>2018-01-01</td>\n",
       "      <td>ATL</td>\n",
       "      <td>0.00</td>\n",
       "    </tr>\n",
       "    <tr>\n",
       "      <th>1</th>\n",
       "      <td>2018-01-01</td>\n",
       "      <td>SEA</td>\n",
       "      <td>0.00</td>\n",
       "    </tr>\n",
       "    <tr>\n",
       "      <th>2</th>\n",
       "      <td>2018-01-02</td>\n",
       "      <td>ATL</td>\n",
       "      <td>0.00</td>\n",
       "    </tr>\n",
       "    <tr>\n",
       "      <th>3</th>\n",
       "      <td>2018-01-02</td>\n",
       "      <td>SEA</td>\n",
       "      <td>0.00</td>\n",
       "    </tr>\n",
       "    <tr>\n",
       "      <th>4</th>\n",
       "      <td>2018-01-03</td>\n",
       "      <td>ATL</td>\n",
       "      <td>0.00</td>\n",
       "    </tr>\n",
       "    <tr>\n",
       "      <th>...</th>\n",
       "      <td>...</td>\n",
       "      <td>...</td>\n",
       "      <td>...</td>\n",
       "    </tr>\n",
       "    <tr>\n",
       "      <th>3647</th>\n",
       "      <td>2022-12-29</td>\n",
       "      <td>SEA</td>\n",
       "      <td>0.03</td>\n",
       "    </tr>\n",
       "    <tr>\n",
       "      <th>3648</th>\n",
       "      <td>2022-12-30</td>\n",
       "      <td>ATL</td>\n",
       "      <td>0.03</td>\n",
       "    </tr>\n",
       "    <tr>\n",
       "      <th>3649</th>\n",
       "      <td>2022-12-30</td>\n",
       "      <td>SEA</td>\n",
       "      <td>0.62</td>\n",
       "    </tr>\n",
       "    <tr>\n",
       "      <th>3650</th>\n",
       "      <td>2022-12-31</td>\n",
       "      <td>ATL</td>\n",
       "      <td>0.09</td>\n",
       "    </tr>\n",
       "    <tr>\n",
       "      <th>3651</th>\n",
       "      <td>2022-12-31</td>\n",
       "      <td>SEA</td>\n",
       "      <td>0.17</td>\n",
       "    </tr>\n",
       "  </tbody>\n",
       "</table>\n",
       "<p>3652 rows × 3 columns</p>\n",
       "</div>"
      ],
      "text/plain": [
       "           DATE city  precipitation\n",
       "0    2018-01-01  ATL           0.00\n",
       "1    2018-01-01  SEA           0.00\n",
       "2    2018-01-02  ATL           0.00\n",
       "3    2018-01-02  SEA           0.00\n",
       "4    2018-01-03  ATL           0.00\n",
       "...         ...  ...            ...\n",
       "3647 2022-12-29  SEA           0.03\n",
       "3648 2022-12-30  ATL           0.03\n",
       "3649 2022-12-30  SEA           0.62\n",
       "3650 2022-12-31  ATL           0.09\n",
       "3651 2022-12-31  SEA           0.17\n",
       "\n",
       "[3652 rows x 3 columns]"
      ]
     },
     "execution_count": 174,
     "metadata": {},
     "output_type": "execute_result"
    }
   ],
   "source": [
    "tidy_df"
   ]
  },
  {
   "cell_type": "markdown",
   "metadata": {
    "id": "oKGHtonZsZCM"
   },
   "source": [
    "## Export the clean .csv file"
   ]
  },
  {
   "cell_type": "code",
   "execution_count": 179,
   "metadata": {
    "id": "EqBz9TkxKp5-"
   },
   "outputs": [],
   "source": [
    "tidy_df.to_csv('/Users/dcnguyen060899/Downloads/First_Quarter_Seattle_U_2025:2026/DATA_5100-01/weather/data/clean_seattle_atlanta_seattle_weather.csv', encoding='utf-8-sig', index=False)"
   ]
  },
  {
   "cell_type": "code",
   "execution_count": null,
   "metadata": {},
   "outputs": [],
   "source": []
  }
 ],
 "metadata": {
  "colab": {
   "provenance": [],
   "toc_visible": true
  },
  "kernelspec": {
   "display_name": "Python 3 (ipykernel)",
   "language": "python",
   "name": "python3"
  },
  "language_info": {
   "codemirror_mode": {
    "name": "ipython",
    "version": 3
   },
   "file_extension": ".py",
   "mimetype": "text/x-python",
   "name": "python",
   "nbconvert_exporter": "python",
   "pygments_lexer": "ipython3",
   "version": "3.13.7"
  }
 },
 "nbformat": 4,
 "nbformat_minor": 4
}
